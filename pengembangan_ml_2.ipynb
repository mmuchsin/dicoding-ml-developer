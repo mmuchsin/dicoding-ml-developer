{
  "nbformat": 4,
  "nbformat_minor": 0,
  "metadata": {
    "colab": {
      "name": "pengembangan-ml-2.ipynb",
      "provenance": [],
      "collapsed_sections": [],
      "authorship_tag": "ABX9TyPOhjANcDP3ejv3dlnIKigY",
      "include_colab_link": true
    },
    "kernelspec": {
      "name": "python3",
      "display_name": "Python 3"
    },
    "language_info": {
      "name": "python"
    }
  },
  "cells": [
    {
      "cell_type": "markdown",
      "metadata": {
        "id": "view-in-github",
        "colab_type": "text"
      },
      "source": [
        "<a href=\"https://colab.research.google.com/github/mmuchsin/submission-ml-dicoding/blob/main/pengembangan_ml_2.ipynb\" target=\"_parent\"><img src=\"https://colab.research.google.com/assets/colab-badge.svg\" alt=\"Open In Colab\"/></a>"
      ]
    },
    {
      "cell_type": "markdown",
      "metadata": {
        "id": "NDp2a_8fbnBa"
      },
      "source": [
        "# **Proyek Kedua : Membuat Model Machine Learning dengan Data Time Series**"
      ]
    },
    {
      "cell_type": "markdown",
      "metadata": {
        "id": "g45hWrgLlueD"
      },
      "source": [
        "## **Identitas**\n",
        "\n",
        "\n",
        "\n",
        "*   Nama  : M Muchsin\n",
        "*   Email : m.muchsin21@gmail.com\n",
        "\n"
      ]
    },
    {
      "cell_type": "markdown",
      "metadata": {
        "id": "6sU44dkhkMGg"
      },
      "source": [
        "## **Data Collecting**"
      ]
    },
    {
      "cell_type": "code",
      "metadata": {
        "id": "OLozfBzi9pWU"
      },
      "source": [
        "!mkdir -p ~/.kaggle\n",
        "!cp kaggle.json ~/.kaggle"
      ],
      "execution_count": null,
      "outputs": []
    },
    {
      "cell_type": "code",
      "metadata": {
        "id": "IoIs_kTK_45B"
      },
      "source": [
        "!chmod 600 /root/.kaggle/kaggle.json"
      ],
      "execution_count": null,
      "outputs": []
    },
    {
      "cell_type": "code",
      "metadata": {
        "colab": {
          "base_uri": "https://localhost:8080/"
        },
        "id": "iGHrcGDkkU-K",
        "outputId": "8a207aa7-d6bf-4a15-d474-4de9d137c9ca"
      },
      "source": [
        "#unduh data mentah\n",
        "!kaggle datasets download -d berkeleyearth/climate-change-earth-surface-temperature-data"
      ],
      "execution_count": null,
      "outputs": [
        {
          "output_type": "stream",
          "text": [
            "Downloading climate-change-earth-surface-temperature-data.zip to /content\n",
            " 99% 84.0M/84.7M [00:00<00:00, 210MB/s]\n",
            "100% 84.7M/84.7M [00:00<00:00, 214MB/s]\n"
          ],
          "name": "stdout"
        }
      ]
    },
    {
      "cell_type": "code",
      "metadata": {
        "colab": {
          "base_uri": "https://localhost:8080/"
        },
        "id": "2felABvZAVsg",
        "outputId": "1f09283f-a2e4-4c0c-8144-29fa2490fc3a"
      },
      "source": [
        "#ektraksi data\n",
        "!unzip /content/climate-change-earth-surface-temperature-data.zip"
      ],
      "execution_count": null,
      "outputs": [
        {
          "output_type": "stream",
          "text": [
            "Archive:  /content/climate-change-earth-surface-temperature-data.zip\n",
            "  inflating: GlobalLandTemperaturesByCity.csv  \n",
            "  inflating: GlobalLandTemperaturesByCountry.csv  \n",
            "  inflating: GlobalLandTemperaturesByMajorCity.csv  \n",
            "  inflating: GlobalLandTemperaturesByState.csv  \n",
            "  inflating: GlobalTemperatures.csv  \n"
          ],
          "name": "stdout"
        }
      ]
    },
    {
      "cell_type": "markdown",
      "metadata": {
        "id": "h5vk_KV0rPMl"
      },
      "source": [
        "## **Import Libraries**"
      ]
    },
    {
      "cell_type": "code",
      "metadata": {
        "id": "1zC4FxQMoUie"
      },
      "source": [
        "import pandas as pd\n",
        "import numpy as np\n",
        "import matplotlib.pyplot as plt\n",
        "from sklearn import preprocessing\n",
        "from sklearn.model_selection import train_test_split\n",
        "import tensorflow as tf\n",
        "from tensorflow.keras.preprocessing.text import Tokenizer\n",
        "from tensorflow.keras.preprocessing.sequence import pad_sequences\n"
      ],
      "execution_count": null,
      "outputs": []
    },
    {
      "cell_type": "markdown",
      "metadata": {
        "id": "d5rpwXWDBaH4"
      },
      "source": [
        "## **Data Cleaning**"
      ]
    },
    {
      "cell_type": "code",
      "metadata": {
        "id": "W2_lrUhJirIU"
      },
      "source": [
        "d_parser = lambda x: pd.datetime.strptime(x, '%Y-%m-%d' )"
      ],
      "execution_count": null,
      "outputs": []
    },
    {
      "cell_type": "code",
      "metadata": {
        "id": "lty9YAtWBite",
        "colab": {
          "base_uri": "https://localhost:8080/"
        },
        "outputId": "5bcccab4-5f31-4bbd-8ea9-6df43cd791f3"
      },
      "source": [
        "df = pd.read_csv('GlobalLandTemperaturesByCountry.csv', parse_dates=['dt'], date_parser=d_parser)"
      ],
      "execution_count": null,
      "outputs": [
        {
          "output_type": "stream",
          "text": [
            "/usr/local/lib/python3.7/dist-packages/ipykernel_launcher.py:1: FutureWarning: The pandas.datetime class is deprecated and will be removed from pandas in a future version. Import from datetime module instead.\n",
            "  \"\"\"Entry point for launching an IPython kernel.\n"
          ],
          "name": "stderr"
        }
      ]
    },
    {
      "cell_type": "code",
      "metadata": {
        "colab": {
          "base_uri": "https://localhost:8080/"
        },
        "id": "wZRFzRyGDHce",
        "outputId": "1a3efbcb-fa31-4212-d2b5-578a279ac672"
      },
      "source": [
        "df.info()"
      ],
      "execution_count": null,
      "outputs": [
        {
          "output_type": "stream",
          "text": [
            "<class 'pandas.core.frame.DataFrame'>\n",
            "RangeIndex: 577462 entries, 0 to 577461\n",
            "Data columns (total 4 columns):\n",
            " #   Column                         Non-Null Count   Dtype         \n",
            "---  ------                         --------------   -----         \n",
            " 0   dt                             577462 non-null  datetime64[ns]\n",
            " 1   AverageTemperature             544811 non-null  float64       \n",
            " 2   AverageTemperatureUncertainty  545550 non-null  float64       \n",
            " 3   Country                        577462 non-null  object        \n",
            "dtypes: datetime64[ns](1), float64(2), object(1)\n",
            "memory usage: 17.6+ MB\n"
          ],
          "name": "stdout"
        }
      ]
    },
    {
      "cell_type": "code",
      "metadata": {
        "colab": {
          "base_uri": "https://localhost:8080/",
          "height": 200
        },
        "id": "7GJcm69QGjDv",
        "outputId": "17ffc0b0-f536-4b28-c58d-d516d86e2340"
      },
      "source": [
        "df.head()"
      ],
      "execution_count": null,
      "outputs": [
        {
          "output_type": "execute_result",
          "data": {
            "text/html": [
              "<div>\n",
              "<style scoped>\n",
              "    .dataframe tbody tr th:only-of-type {\n",
              "        vertical-align: middle;\n",
              "    }\n",
              "\n",
              "    .dataframe tbody tr th {\n",
              "        vertical-align: top;\n",
              "    }\n",
              "\n",
              "    .dataframe thead th {\n",
              "        text-align: right;\n",
              "    }\n",
              "</style>\n",
              "<table border=\"1\" class=\"dataframe\">\n",
              "  <thead>\n",
              "    <tr style=\"text-align: right;\">\n",
              "      <th></th>\n",
              "      <th>dt</th>\n",
              "      <th>AverageTemperature</th>\n",
              "      <th>AverageTemperatureUncertainty</th>\n",
              "      <th>Country</th>\n",
              "    </tr>\n",
              "  </thead>\n",
              "  <tbody>\n",
              "    <tr>\n",
              "      <th>0</th>\n",
              "      <td>1743-11-01</td>\n",
              "      <td>4.384</td>\n",
              "      <td>2.294</td>\n",
              "      <td>Åland</td>\n",
              "    </tr>\n",
              "    <tr>\n",
              "      <th>1</th>\n",
              "      <td>1743-12-01</td>\n",
              "      <td>NaN</td>\n",
              "      <td>NaN</td>\n",
              "      <td>Åland</td>\n",
              "    </tr>\n",
              "    <tr>\n",
              "      <th>2</th>\n",
              "      <td>1744-01-01</td>\n",
              "      <td>NaN</td>\n",
              "      <td>NaN</td>\n",
              "      <td>Åland</td>\n",
              "    </tr>\n",
              "    <tr>\n",
              "      <th>3</th>\n",
              "      <td>1744-02-01</td>\n",
              "      <td>NaN</td>\n",
              "      <td>NaN</td>\n",
              "      <td>Åland</td>\n",
              "    </tr>\n",
              "    <tr>\n",
              "      <th>4</th>\n",
              "      <td>1744-03-01</td>\n",
              "      <td>NaN</td>\n",
              "      <td>NaN</td>\n",
              "      <td>Åland</td>\n",
              "    </tr>\n",
              "  </tbody>\n",
              "</table>\n",
              "</div>"
            ],
            "text/plain": [
              "          dt  AverageTemperature  AverageTemperatureUncertainty Country\n",
              "0 1743-11-01               4.384                          2.294   Åland\n",
              "1 1743-12-01                 NaN                            NaN   Åland\n",
              "2 1744-01-01                 NaN                            NaN   Åland\n",
              "3 1744-02-01                 NaN                            NaN   Åland\n",
              "4 1744-03-01                 NaN                            NaN   Åland"
            ]
          },
          "metadata": {
            "tags": []
          },
          "execution_count": 58
        }
      ]
    },
    {
      "cell_type": "code",
      "metadata": {
        "id": "tfi1DmyLbIxC"
      },
      "source": [
        "asean = ['Brunei', 'Cambodia', 'Indonesia', 'Laos', 'Malaysia', 'Myanmar', 'Philippines', 'Singapore', 'Thailand', 'Vietnam']"
      ],
      "execution_count": null,
      "outputs": []
    },
    {
      "cell_type": "code",
      "metadata": {
        "id": "9dWzut3ebRy-"
      },
      "source": [
        "df_asean = df.loc[df['Country'].isin(asean)]"
      ],
      "execution_count": null,
      "outputs": []
    },
    {
      "cell_type": "code",
      "metadata": {
        "colab": {
          "base_uri": "https://localhost:8080/"
        },
        "id": "DxUHDguqcytA",
        "outputId": "fe5d884a-0b43-46f4-b1b8-03decd5a37a1"
      },
      "source": [
        "df_asean.info()"
      ],
      "execution_count": null,
      "outputs": [
        {
          "output_type": "stream",
          "text": [
            "<class 'pandas.core.frame.DataFrame'>\n",
            "Int64Index: 17996 entries, 93097 to 566880\n",
            "Data columns (total 4 columns):\n",
            " #   Column                         Non-Null Count  Dtype         \n",
            "---  ------                         --------------  -----         \n",
            " 0   dt                             17996 non-null  datetime64[ns]\n",
            " 1   AverageTemperature             16527 non-null  float64       \n",
            " 2   AverageTemperatureUncertainty  16527 non-null  float64       \n",
            " 3   Country                        17996 non-null  object        \n",
            "dtypes: datetime64[ns](1), float64(2), object(1)\n",
            "memory usage: 703.0+ KB\n"
          ],
          "name": "stdout"
        }
      ]
    },
    {
      "cell_type": "code",
      "metadata": {
        "colab": {
          "base_uri": "https://localhost:8080/"
        },
        "id": "cg6-fgrCGzk5",
        "outputId": "e3842ee2-8093-48c1-a218-110a940163c1"
      },
      "source": [
        "df_asean.isna().sum()"
      ],
      "execution_count": null,
      "outputs": [
        {
          "output_type": "execute_result",
          "data": {
            "text/plain": [
              "dt                                  0\n",
              "AverageTemperature               1469\n",
              "AverageTemperatureUncertainty    1469\n",
              "Country                             0\n",
              "dtype: int64"
            ]
          },
          "metadata": {
            "tags": []
          },
          "execution_count": 62
        }
      ]
    },
    {
      "cell_type": "code",
      "metadata": {
        "id": "E1aQ59mydB4L"
      },
      "source": [
        "x = df_asean['dt']\n",
        "y = df_asean['AverageTemperature']"
      ],
      "execution_count": null,
      "outputs": []
    },
    {
      "cell_type": "code",
      "metadata": {
        "id": "_fBEM7gacOOc"
      },
      "source": [
        "temp_med = df_asean['AverageTemperature'].mean()"
      ],
      "execution_count": null,
      "outputs": []
    },
    {
      "cell_type": "code",
      "metadata": {
        "id": "2laIsWBMHLNy"
      },
      "source": [
        "df_asean = df_asean.fillna(value=temp_med)"
      ],
      "execution_count": null,
      "outputs": []
    },
    {
      "cell_type": "code",
      "metadata": {
        "id": "6R6RBtoHjBPp"
      },
      "source": [
        "asean_1990 = df_asean.loc[df_asean['dt'] >= '1900']"
      ],
      "execution_count": null,
      "outputs": []
    },
    {
      "cell_type": "code",
      "metadata": {
        "id": "kBW-Mpa0oJYq",
        "colab": {
          "base_uri": "https://localhost:8080/"
        },
        "outputId": "7902a273-5578-45bf-da94-faf51133874a"
      },
      "source": [
        "asean_1990.info()"
      ],
      "execution_count": null,
      "outputs": [
        {
          "output_type": "stream",
          "text": [
            "<class 'pandas.core.frame.DataFrame'>\n",
            "Int64Index: 10920 entries, 93997 to 566880\n",
            "Data columns (total 4 columns):\n",
            " #   Column                         Non-Null Count  Dtype         \n",
            "---  ------                         --------------  -----         \n",
            " 0   dt                             10920 non-null  datetime64[ns]\n",
            " 1   AverageTemperature             10920 non-null  float64       \n",
            " 2   AverageTemperatureUncertainty  10920 non-null  float64       \n",
            " 3   Country                        10920 non-null  object        \n",
            "dtypes: datetime64[ns](1), float64(2), object(1)\n",
            "memory usage: 426.6+ KB\n"
          ],
          "name": "stdout"
        }
      ]
    },
    {
      "cell_type": "code",
      "metadata": {
        "id": "-D2DHzaiHr7R"
      },
      "source": [
        "dates = asean_1990['dt'].to_numpy()\n",
        "temp  = asean_1990['AverageTemperature'].to_numpy()"
      ],
      "execution_count": null,
      "outputs": []
    },
    {
      "cell_type": "code",
      "metadata": {
        "colab": {
          "base_uri": "https://localhost:8080/"
        },
        "id": "uFAsU21u6b9e",
        "outputId": "237f725c-255b-432d-ce7a-7f9ee65dbbd7"
      },
      "source": [
        " #mae target\n",
        " (temp.max() - temp.min()) * 0.1\n",
        " "
      ],
      "execution_count": null,
      "outputs": [
        {
          "output_type": "execute_result",
          "data": {
            "text/plain": [
              "1.423800000000001"
            ]
          },
          "metadata": {
            "tags": []
          },
          "execution_count": 70
        }
      ]
    },
    {
      "cell_type": "markdown",
      "metadata": {
        "id": "zaYF2EWbmtMv"
      },
      "source": [
        "## **Data Preproccessing**"
      ]
    },
    {
      "cell_type": "code",
      "metadata": {
        "id": "UM97pTiuP9LE"
      },
      "source": [
        "dates_train, dates_test, temp_train, temp_test = train_test_split(dates, temp, test_size=0.2)"
      ],
      "execution_count": null,
      "outputs": []
    },
    {
      "cell_type": "code",
      "metadata": {
        "id": "7aIYjZmSIJjo"
      },
      "source": [
        "def windowed_dataset(series, window_size, batch_size, shuffle_buffer):\n",
        "    series = tf.expand_dims(series, axis=-1)\n",
        "    ds = tf.data.Dataset.from_tensor_slices(series)\n",
        "    ds = ds.window(window_size + 1, shift=1, drop_remainder=True)\n",
        "    ds = ds.flat_map(lambda w: w.batch(window_size + 1))\n",
        "    ds = ds.shuffle(shuffle_buffer)\n",
        "    ds = ds.map(lambda w: (w[:-1], w[-1:]))\n",
        "    return ds.batch(batch_size).prefetch(1)"
      ],
      "execution_count": null,
      "outputs": []
    },
    {
      "cell_type": "code",
      "metadata": {
        "id": "Maj2Y6T_QlKQ"
      },
      "source": [
        "train_set = windowed_dataset(temp_train, window_size=60, batch_size=1000, shuffle_buffer=1000)\n",
        "test_set = windowed_dataset(temp_test, window_size=60, batch_size=1000, shuffle_buffer=1000)"
      ],
      "execution_count": null,
      "outputs": []
    },
    {
      "cell_type": "markdown",
      "metadata": {
        "id": "eNRgQO3D2QqF"
      },
      "source": [
        "## **Model**"
      ]
    },
    {
      "cell_type": "code",
      "metadata": {
        "id": "AgpQ9yXMsM1U"
      },
      "source": [
        "\n",
        "model = tf.keras.models.Sequential([\n",
        "  tf.keras.layers.LSTM(60, return_sequences=True),\n",
        "  tf.keras.layers.LSTM(60),\n",
        "  tf.keras.layers.Dense(30, activation=\"relu\"),\n",
        "  tf.keras.layers.Dense(10, activation=\"relu\"),\n",
        "  tf.keras.layers.Dense(1),\n",
        "])"
      ],
      "execution_count": null,
      "outputs": []
    },
    {
      "cell_type": "code",
      "metadata": {
        "id": "81ptwDKBIsq4"
      },
      "source": [
        "optimizer = tf.keras.optimizers.SGD(learning_rate=1.0000e-04, momentum=0.9)\n",
        "model.compile(loss=tf.keras.losses.Huber(),\n",
        "              optimizer=optimizer,\n",
        "              metrics=[\"mae\"])"
      ],
      "execution_count": null,
      "outputs": []
    },
    {
      "cell_type": "markdown",
      "metadata": {
        "id": "u5YJj_XMl5LF"
      },
      "source": [
        "### **Training Model**"
      ]
    },
    {
      "cell_type": "code",
      "metadata": {
        "id": "EXsRpUrAqgnk"
      },
      "source": [
        "class myCallback(tf.keras.callbacks.Callback):\n",
        "  def on_epoch_end(self, epoch, logs={}):\n",
        "    if(logs.get('mae')<1.4238):\n",
        "      print(\"\\nMAE telah mencapai <10%!\")\n",
        "      self.model.stop_training = True\n",
        "callbacks = myCallback()"
      ],
      "execution_count": null,
      "outputs": []
    },
    {
      "cell_type": "code",
      "metadata": {
        "colab": {
          "base_uri": "https://localhost:8080/"
        },
        "id": "mpWJOr4WI0XA",
        "outputId": "8b1ee01d-4203-4da0-dd93-569b19247b53"
      },
      "source": [
        "history = model.fit(\n",
        "                    train_set,\n",
        "                    validation_data=test_set,\n",
        "                    epochs=100,\n",
        "                    callbacks=[callbacks]\n",
        "                    )"
      ],
      "execution_count": null,
      "outputs": [
        {
          "output_type": "stream",
          "text": [
            "Epoch 1/100\n",
            "9/9 [==============================] - 8s 877ms/step - loss: 25.3018 - mae: 25.8018 - val_loss: 25.2480 - val_mae: 25.7480\n",
            "Epoch 2/100\n",
            "9/9 [==============================] - 7s 741ms/step - loss: 25.2716 - mae: 25.7716 - val_loss: 25.2222 - val_mae: 25.7222\n",
            "Epoch 3/100\n",
            "9/9 [==============================] - 7s 734ms/step - loss: 25.2483 - mae: 25.7483 - val_loss: 25.1987 - val_mae: 25.6987\n",
            "Epoch 4/100\n",
            "9/9 [==============================] - 7s 750ms/step - loss: 25.2240 - mae: 25.7240 - val_loss: 25.1739 - val_mae: 25.6739\n",
            "Epoch 5/100\n",
            "9/9 [==============================] - 7s 749ms/step - loss: 25.2009 - mae: 25.7009 - val_loss: 25.1568 - val_mae: 25.6568\n",
            "Epoch 6/100\n",
            "9/9 [==============================] - 7s 741ms/step - loss: 25.1867 - mae: 25.6867 - val_loss: 25.1431 - val_mae: 25.6431\n",
            "Epoch 7/100\n",
            "9/9 [==============================] - 7s 752ms/step - loss: 25.1729 - mae: 25.6729 - val_loss: 25.1291 - val_mae: 25.6291\n",
            "Epoch 8/100\n",
            "9/9 [==============================] - 7s 733ms/step - loss: 25.1589 - mae: 25.6589 - val_loss: 25.1151 - val_mae: 25.6151\n",
            "Epoch 9/100\n",
            "9/9 [==============================] - 7s 738ms/step - loss: 25.1449 - mae: 25.6449 - val_loss: 25.1012 - val_mae: 25.6011\n",
            "Epoch 10/100\n",
            "9/9 [==============================] - 7s 740ms/step - loss: 25.1310 - mae: 25.6310 - val_loss: 25.0873 - val_mae: 25.5873\n",
            "Epoch 11/100\n",
            "9/9 [==============================] - 7s 733ms/step - loss: 25.1171 - mae: 25.6171 - val_loss: 25.0734 - val_mae: 25.5734\n",
            "Epoch 12/100\n",
            "9/9 [==============================] - 7s 736ms/step - loss: 25.1032 - mae: 25.6032 - val_loss: 25.0594 - val_mae: 25.5594\n",
            "Epoch 13/100\n",
            "9/9 [==============================] - 7s 739ms/step - loss: 25.0891 - mae: 25.5891 - val_loss: 25.0452 - val_mae: 25.5452\n",
            "Epoch 14/100\n",
            "9/9 [==============================] - 7s 737ms/step - loss: 25.0748 - mae: 25.5748 - val_loss: 25.0308 - val_mae: 25.5308\n",
            "Epoch 15/100\n",
            "9/9 [==============================] - 7s 732ms/step - loss: 25.0603 - mae: 25.5603 - val_loss: 25.0161 - val_mae: 25.5161\n",
            "Epoch 16/100\n",
            "9/9 [==============================] - 7s 744ms/step - loss: 25.0455 - mae: 25.5455 - val_loss: 25.0011 - val_mae: 25.5011\n",
            "Epoch 17/100\n",
            "9/9 [==============================] - 7s 741ms/step - loss: 25.0304 - mae: 25.5304 - val_loss: 24.9858 - val_mae: 25.4858\n",
            "Epoch 18/100\n",
            "9/9 [==============================] - 7s 728ms/step - loss: 25.0150 - mae: 25.5150 - val_loss: 24.9703 - val_mae: 25.4703\n",
            "Epoch 19/100\n",
            "9/9 [==============================] - 7s 731ms/step - loss: 24.9995 - mae: 25.4995 - val_loss: 24.9550 - val_mae: 25.4550\n",
            "Epoch 20/100\n",
            "9/9 [==============================] - 7s 735ms/step - loss: 24.9841 - mae: 25.4841 - val_loss: 24.9394 - val_mae: 25.4394\n",
            "Epoch 21/100\n",
            "9/9 [==============================] - 7s 741ms/step - loss: 24.9684 - mae: 25.4684 - val_loss: 24.9235 - val_mae: 25.4235\n",
            "Epoch 22/100\n",
            "9/9 [==============================] - 7s 735ms/step - loss: 24.9524 - mae: 25.4524 - val_loss: 24.9072 - val_mae: 25.4072\n",
            "Epoch 23/100\n",
            "9/9 [==============================] - 7s 744ms/step - loss: 24.9359 - mae: 25.4359 - val_loss: 24.8906 - val_mae: 25.3906\n",
            "Epoch 24/100\n",
            "9/9 [==============================] - 7s 736ms/step - loss: 24.9191 - mae: 25.4191 - val_loss: 24.8735 - val_mae: 25.3735\n",
            "Epoch 25/100\n",
            "9/9 [==============================] - 7s 741ms/step - loss: 24.9018 - mae: 25.4018 - val_loss: 24.8560 - val_mae: 25.3560\n",
            "Epoch 26/100\n",
            "9/9 [==============================] - 7s 739ms/step - loss: 24.8841 - mae: 25.3841 - val_loss: 24.8380 - val_mae: 25.3380\n",
            "Epoch 27/100\n",
            "9/9 [==============================] - 7s 733ms/step - loss: 24.8659 - mae: 25.3659 - val_loss: 24.8196 - val_mae: 25.3196\n",
            "Epoch 28/100\n",
            "9/9 [==============================] - 7s 734ms/step - loss: 24.8472 - mae: 25.3472 - val_loss: 24.8005 - val_mae: 25.3005\n",
            "Epoch 29/100\n",
            "9/9 [==============================] - 7s 740ms/step - loss: 24.8279 - mae: 25.3279 - val_loss: 24.7809 - val_mae: 25.2809\n",
            "Epoch 30/100\n",
            "9/9 [==============================] - 7s 744ms/step - loss: 24.8080 - mae: 25.3080 - val_loss: 24.7606 - val_mae: 25.2606\n",
            "Epoch 31/100\n",
            "9/9 [==============================] - 7s 737ms/step - loss: 24.7874 - mae: 25.2874 - val_loss: 24.7396 - val_mae: 25.2396\n",
            "Epoch 32/100\n",
            "9/9 [==============================] - 7s 738ms/step - loss: 24.7662 - mae: 25.2662 - val_loss: 24.7179 - val_mae: 25.2179\n",
            "Epoch 33/100\n",
            "9/9 [==============================] - 7s 738ms/step - loss: 24.7441 - mae: 25.2441 - val_loss: 24.6954 - val_mae: 25.1954\n",
            "Epoch 34/100\n",
            "9/9 [==============================] - 7s 741ms/step - loss: 24.7212 - mae: 25.2212 - val_loss: 24.6720 - val_mae: 25.1720\n",
            "Epoch 35/100\n",
            "9/9 [==============================] - 7s 730ms/step - loss: 24.6974 - mae: 25.1974 - val_loss: 24.6476 - val_mae: 25.1476\n",
            "Epoch 36/100\n",
            "9/9 [==============================] - 7s 732ms/step - loss: 24.6726 - mae: 25.1726 - val_loss: 24.6223 - val_mae: 25.1223\n",
            "Epoch 37/100\n",
            "9/9 [==============================] - 7s 733ms/step - loss: 24.6469 - mae: 25.1469 - val_loss: 24.5960 - val_mae: 25.0960\n",
            "Epoch 38/100\n",
            "9/9 [==============================] - 7s 740ms/step - loss: 24.6201 - mae: 25.1201 - val_loss: 24.5685 - val_mae: 25.0685\n",
            "Epoch 39/100\n",
            "9/9 [==============================] - 7s 747ms/step - loss: 24.5921 - mae: 25.0921 - val_loss: 24.5398 - val_mae: 25.0398\n",
            "Epoch 40/100\n",
            "9/9 [==============================] - 7s 740ms/step - loss: 24.5628 - mae: 25.0628 - val_loss: 24.5097 - val_mae: 25.0097\n",
            "Epoch 41/100\n",
            "9/9 [==============================] - 7s 740ms/step - loss: 24.5320 - mae: 25.0320 - val_loss: 24.4781 - val_mae: 24.9781\n",
            "Epoch 42/100\n",
            "9/9 [==============================] - 7s 734ms/step - loss: 24.4997 - mae: 24.9997 - val_loss: 24.4448 - val_mae: 24.9448\n",
            "Epoch 43/100\n",
            "9/9 [==============================] - 7s 742ms/step - loss: 24.4657 - mae: 24.9657 - val_loss: 24.4097 - val_mae: 24.9097\n",
            "Epoch 44/100\n",
            "9/9 [==============================] - 7s 734ms/step - loss: 24.4298 - mae: 24.9298 - val_loss: 24.3727 - val_mae: 24.8727\n",
            "Epoch 45/100\n",
            "9/9 [==============================] - 7s 731ms/step - loss: 24.3919 - mae: 24.8919 - val_loss: 24.3336 - val_mae: 24.8336\n",
            "Epoch 46/100\n",
            "9/9 [==============================] - 7s 738ms/step - loss: 24.3518 - mae: 24.8518 - val_loss: 24.2921 - val_mae: 24.7921\n",
            "Epoch 47/100\n",
            "9/9 [==============================] - 7s 741ms/step - loss: 24.3092 - mae: 24.8092 - val_loss: 24.2480 - val_mae: 24.7480\n",
            "Epoch 48/100\n",
            "9/9 [==============================] - 7s 738ms/step - loss: 24.2639 - mae: 24.7639 - val_loss: 24.2011 - val_mae: 24.7011\n",
            "Epoch 49/100\n",
            "9/9 [==============================] - 7s 739ms/step - loss: 24.2157 - mae: 24.7157 - val_loss: 24.1511 - val_mae: 24.6511\n",
            "Epoch 50/100\n",
            "9/9 [==============================] - 7s 731ms/step - loss: 24.1642 - mae: 24.6642 - val_loss: 24.0976 - val_mae: 24.5976\n",
            "Epoch 51/100\n",
            "9/9 [==============================] - 7s 734ms/step - loss: 24.1092 - mae: 24.6092 - val_loss: 24.0407 - val_mae: 24.5407\n",
            "Epoch 52/100\n",
            "9/9 [==============================] - 7s 739ms/step - loss: 24.0508 - mae: 24.5508 - val_loss: 23.9800 - val_mae: 24.4800\n",
            "Epoch 53/100\n",
            "9/9 [==============================] - 7s 734ms/step - loss: 23.9883 - mae: 24.4883 - val_loss: 23.9148 - val_mae: 24.4148\n",
            "Epoch 54/100\n",
            "9/9 [==============================] - 7s 735ms/step - loss: 23.9210 - mae: 24.4210 - val_loss: 23.8446 - val_mae: 24.3446\n",
            "Epoch 55/100\n",
            "9/9 [==============================] - 7s 745ms/step - loss: 23.8484 - mae: 24.3484 - val_loss: 23.7687 - val_mae: 24.2687\n",
            "Epoch 56/100\n",
            "9/9 [==============================] - 7s 757ms/step - loss: 23.7698 - mae: 24.2698 - val_loss: 23.6865 - val_mae: 24.1865\n",
            "Epoch 57/100\n",
            "9/9 [==============================] - 7s 741ms/step - loss: 23.6847 - mae: 24.1847 - val_loss: 23.5972 - val_mae: 24.0972\n",
            "Epoch 58/100\n",
            "9/9 [==============================] - 7s 742ms/step - loss: 23.5920 - mae: 24.0920 - val_loss: 23.4999 - val_mae: 23.9999\n",
            "Epoch 59/100\n",
            "9/9 [==============================] - 7s 756ms/step - loss: 23.4909 - mae: 23.9909 - val_loss: 23.3935 - val_mae: 23.8935\n",
            "Epoch 60/100\n",
            "9/9 [==============================] - 7s 742ms/step - loss: 23.3802 - mae: 23.8802 - val_loss: 23.2769 - val_mae: 23.7769\n",
            "Epoch 61/100\n",
            "9/9 [==============================] - 7s 739ms/step - loss: 23.2588 - mae: 23.7588 - val_loss: 23.1487 - val_mae: 23.6487\n",
            "Epoch 62/100\n",
            "9/9 [==============================] - 7s 733ms/step - loss: 23.1250 - mae: 23.6250 - val_loss: 23.0071 - val_mae: 23.5071\n",
            "Epoch 63/100\n",
            "9/9 [==============================] - 7s 736ms/step - loss: 22.9757 - mae: 23.4757 - val_loss: 22.8453 - val_mae: 23.3453\n",
            "Epoch 64/100\n",
            "9/9 [==============================] - 7s 745ms/step - loss: 22.8037 - mae: 23.3037 - val_loss: 22.6604 - val_mae: 23.1604\n",
            "Epoch 65/100\n",
            "9/9 [==============================] - 7s 735ms/step - loss: 22.6090 - mae: 23.1090 - val_loss: 22.4526 - val_mae: 22.9526\n",
            "Epoch 66/100\n",
            "9/9 [==============================] - 7s 745ms/step - loss: 22.3910 - mae: 22.8910 - val_loss: 22.2207 - val_mae: 22.7207\n",
            "Epoch 67/100\n",
            "9/9 [==============================] - 7s 742ms/step - loss: 22.1478 - mae: 22.6478 - val_loss: 21.9620 - val_mae: 22.4620\n",
            "Epoch 68/100\n",
            "9/9 [==============================] - 7s 747ms/step - loss: 21.8760 - mae: 22.3760 - val_loss: 21.6709 - val_mae: 22.1709\n",
            "Epoch 69/100\n",
            "9/9 [==============================] - 7s 742ms/step - loss: 21.5687 - mae: 22.0687 - val_loss: 21.3410 - val_mae: 21.8410\n",
            "Epoch 70/100\n",
            "9/9 [==============================] - 7s 745ms/step - loss: 21.2200 - mae: 21.7200 - val_loss: 20.9654 - val_mae: 21.4654\n",
            "Epoch 71/100\n",
            "9/9 [==============================] - 7s 732ms/step - loss: 20.8217 - mae: 21.3217 - val_loss: 20.5349 - val_mae: 21.0349\n",
            "Epoch 72/100\n",
            "9/9 [==============================] - 7s 735ms/step - loss: 20.3640 - mae: 20.8640 - val_loss: 20.0382 - val_mae: 20.5382\n",
            "Epoch 73/100\n",
            "9/9 [==============================] - 7s 744ms/step - loss: 19.8334 - mae: 20.3334 - val_loss: 19.4563 - val_mae: 19.9563\n",
            "Epoch 74/100\n",
            "9/9 [==============================] - 7s 744ms/step - loss: 19.2039 - mae: 19.7039 - val_loss: 18.7601 - val_mae: 19.2601\n",
            "Epoch 75/100\n",
            "9/9 [==============================] - 7s 748ms/step - loss: 18.4533 - mae: 18.9533 - val_loss: 17.9323 - val_mae: 18.4323\n",
            "Epoch 76/100\n",
            "9/9 [==============================] - 7s 742ms/step - loss: 17.5598 - mae: 18.0598 - val_loss: 16.9446 - val_mae: 17.4446\n",
            "Epoch 77/100\n",
            "9/9 [==============================] - 7s 739ms/step - loss: 16.4908 - mae: 16.9908 - val_loss: 15.7576 - val_mae: 16.2576\n",
            "Epoch 78/100\n",
            "9/9 [==============================] - 7s 749ms/step - loss: 15.2000 - mae: 15.7000 - val_loss: 14.3160 - val_mae: 14.8160\n",
            "Epoch 79/100\n",
            "9/9 [==============================] - 7s 735ms/step - loss: 13.6248 - mae: 14.1248 - val_loss: 12.5453 - val_mae: 13.0453\n",
            "Epoch 80/100\n",
            "9/9 [==============================] - 7s 751ms/step - loss: 11.6789 - mae: 12.1789 - val_loss: 10.3413 - val_mae: 10.8413\n",
            "Epoch 81/100\n",
            "9/9 [==============================] - 7s 741ms/step - loss: 9.2412 - mae: 9.7409 - val_loss: 7.5622 - val_mae: 8.0598\n",
            "Epoch 82/100\n",
            "9/9 [==============================] - 7s 739ms/step - loss: 6.2000 - mae: 6.6948 - val_loss: 4.2598 - val_mae: 4.7520\n",
            "Epoch 83/100\n",
            "9/9 [==============================] - 7s 738ms/step - loss: 2.8578 - mae: 3.3452 - val_loss: 1.2099 - val_mae: 1.6451\n",
            "Epoch 84/100\n",
            "9/9 [==============================] - 7s 736ms/step - loss: 1.2436 - mae: 1.6624 - val_loss: 1.6273 - val_mae: 2.0812\n",
            "Epoch 85/100\n",
            "9/9 [==============================] - 7s 737ms/step - loss: 1.2928 - mae: 1.7112 - val_loss: 1.0180 - val_mae: 1.4108\n",
            "Epoch 86/100\n",
            "9/9 [==============================] - 7s 753ms/step - loss: 1.0685 - mae: 1.4797 - val_loss: 1.1071 - val_mae: 1.5200\n",
            "Epoch 87/100\n",
            "9/9 [==============================] - 7s 745ms/step - loss: 1.0268 - mae: 1.4284 - val_loss: 1.0264 - val_mae: 1.4183\n",
            "Epoch 88/100\n",
            "9/9 [==============================] - 7s 748ms/step - loss: 1.0090 - mae: 1.4010 - val_loss: 1.0287 - val_mae: 1.4206\n",
            "\n",
            "MAE telah mencapai <10%!\n"
          ],
          "name": "stdout"
        }
      ]
    },
    {
      "cell_type": "code",
      "metadata": {
        "id": "x67d-uNHuSeW",
        "colab": {
          "base_uri": "https://localhost:8080/"
        },
        "outputId": "68acfaaf-6421-426c-cdac-e6188c5fe6c9"
      },
      "source": [
        "history.history.keys()"
      ],
      "execution_count": null,
      "outputs": [
        {
          "output_type": "execute_result",
          "data": {
            "text/plain": [
              "dict_keys(['loss', 'mae', 'val_loss', 'val_mae'])"
            ]
          },
          "metadata": {
            "tags": []
          },
          "execution_count": 81
        }
      ]
    },
    {
      "cell_type": "code",
      "metadata": {
        "id": "ZgVhCRyasPjQ",
        "colab": {
          "base_uri": "https://localhost:8080/",
          "height": 295
        },
        "outputId": "45401571-0abc-4f46-e7ff-5d5b037f9ee6"
      },
      "source": [
        "#history of mae\n",
        "plt.plot(history.history['mae'])\n",
        "plt.plot(history.history['val_mae'])\n",
        "plt.title('model mae')\n",
        "plt.ylabel('mae')\n",
        "plt.xlabel('epoch')\n",
        "plt.legend(['train', 'test'], loc='upper left')\n",
        "plt.show()"
      ],
      "execution_count": null,
      "outputs": [
        {
          "output_type": "display_data",
          "data": {
            "image/png": "[encoded data removed]",
            "text/plain": [
              "<Figure size 432x288 with 1 Axes>"
            ]
          },
          "metadata": {
            "tags": [],
            "needs_background": "light"
          }
        }
      ]
    },
    {
      "cell_type": "code",
      "metadata": {
        "id": "vHEIsrplsTMm",
        "colab": {
          "base_uri": "https://localhost:8080/",
          "height": 295
        },
        "outputId": "b87bc920-6a2e-49d8-cc63-098db8011b2e"
      },
      "source": [
        "#history of loss\n",
        "plt.plot(history.history['loss'])\n",
        "plt.plot(history.history['val_loss'])\n",
        "plt.title('model loss')\n",
        "plt.ylabel('loss')\n",
        "plt.xlabel('epoch')\n",
        "plt.legend(['train', 'test'], loc='upper left')\n",
        "plt.show()"
      ],
      "execution_count": null,
      "outputs": [
        {
          "output_type": "display_data",
          "data": {
            "image/png": "[encoded data removed]",
            "text/plain": [
              "<Figure size 432x288 with 1 Axes>"
            ]
          },
          "metadata": {
            "tags": [],
            "needs_background": "light"
          }
        }
      ]
    }
  ]
}